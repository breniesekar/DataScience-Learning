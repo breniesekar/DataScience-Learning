{
 "cells": [
  {
   "cell_type": "markdown",
   "id": "ec444cca",
   "metadata": {},
   "source": [
    "# *Assignment - 1*"
   ]
  },
  {
   "cell_type": "markdown",
   "id": "0ac79ad9",
   "metadata": {},
   "source": [
    "## 1. In the below elements which of them are values or an expression?\n",
    "##### eg:- values can be integer or string and expressions will be mathematical operators.\n",
    "\n",
    "\n",
    "* \n",
    "\n",
    "'hello'\n",
    "\n",
    "-87.8\n",
    "\n",
    "- \n",
    "\n",
    "/ \n",
    "\n",
    "+\t\n",
    "\n",
    "6 "
   ]
  },
  {
   "cell_type": "markdown",
   "id": "03bb2154",
   "metadata": {},
   "source": [
    "#### Ans: \n",
    "\n",
    "Expressions :   *, -, /, +<br>\n",
    "Values      :   'hello', -87.8, 6"
   ]
  },
  {
   "cell_type": "markdown",
   "id": "190a584a",
   "metadata": {},
   "source": [
    "## 2. What is the difference between string and variable?"
   ]
  },
  {
   "cell_type": "markdown",
   "id": "f03dc5ed",
   "metadata": {},
   "source": [
    "#### Ans:\n",
    "\n",
    "* String is the text as a value assigned to an variable\n",
    "* Example:<br>\n",
    "    var1 = \"ineuron\"<br>\n",
    "    x1 = \"Data Science\"\n",
    "    \n",
    " * var1 and x1 are the variable \n",
    " * \"ineuron\" and \"Data Science\" are the strings assigned to the variable var1 and x1 respectively"
   ]
  },
  {
   "cell_type": "markdown",
   "id": "995de69a",
   "metadata": {},
   "source": [
    "## 3. Describe three different data types."
   ]
  },
  {
   "cell_type": "markdown",
   "id": "df068c1c",
   "metadata": {},
   "source": [
    "1. Integer - Integer values are assigned to the variable (Whole numbers without decimals)  a = 10<br>\n",
    "   e.g. 1, 2, 3, 4, ..., 0, -1, -2, -3, ....<br>\n",
    "2. String - It is a sequence of text/ character assigned to the variable within single or double quotes. a=\"ineuron\"<br>\n",
    "e.g. \"ineuron\", \"data science\"<br>\n",
    "3. Float-  Float is a numerical data type that represents a floating-point number. a=3.14<br>\n",
    "e.g: 3.14, 6.778<br>\n",
    "4. List - Lists are collection of homogeneous or heterogeneous elements enclosed within square brackets.\n",
    "List is mutable.<br>\n",
    "For Example<br>\n",
    "l1=[1,2,3,4]<br>\n",
    "l2 =['a', 1, 1.34, [1, 's', 'd']]<br>\n",
    "5. Tuple -Tuples are collection of homogeneous or heterogeneous elements enclosed within paranthesis.\n",
    "Tuple is immutable.<br>\n",
    "For Example<br>\n",
    "l1=(1,2,3,4)<br>\n",
    "l2 =('a', 1, 1.34, [1, 's', 'd'])<br>\n",
    "6. Set - Set is an unordered collection data type that is mutable and has no duplicate elements. The elements in set is enclosed within curly brackets. \n",
    "For Example:<br>\n",
    "s1 ={'a', 'b', 'c', 1, 2, 3}<br>\n",
    "7. Dict - Dictionaries are used to store data values in key:value pairs. It is mutable\n",
    "For Example: <br>\n",
    "dict1 = {'a': 1, 'b':2, 'c':3, 'd':4, 'e':5}"
   ]
  },
  {
   "cell_type": "markdown",
   "id": "992159d3",
   "metadata": {},
   "source": [
    "## 4. What is an expression made up of? What do all expressions do?"
   ]
  },
  {
   "cell_type": "markdown",
   "id": "e300750c",
   "metadata": {},
   "source": [
    "#### Expressions:\n",
    "Example : x = 10 + 3.2\n",
    "\n",
    "Expression can perform:<br> \n",
    "* mathematical opertions (+, -, *, /),\n",
    "* Relational Operations (==, <=, >=, <, >, !=)\n",
    "* Logical Operations(and, or, exor, not)"
   ]
  },
  {
   "cell_type": "markdown",
   "id": "4f859d99",
   "metadata": {},
   "source": [
    "## 5. This assignment statements, like spam = 10. What is the difference between an expression and a statement?"
   ]
  },
  {
   "cell_type": "markdown",
   "id": "45c5b9c6",
   "metadata": {},
   "source": [
    "#### Statements:\n",
    "Python statements are the code instructions that are executed by the Python interpreter\n",
    "* spam = 10 # Assigning the value 10 to the variable spam is statement\n",
    "\n",
    "#### Expressions: \n",
    "Expressions performs all mathematical, relational and logical operations\n",
    "\n",
    "For Example:<br>\n",
    "spam*2<br>\n",
    "spam-1<br>\n",
    "spam/2<br>\n",
    "spam+2<br>\n",
    "spam//2<br>\n",
    "spam**2<br>"
   ]
  },
  {
   "cell_type": "code",
   "execution_count": 1,
   "id": "3b2c85e2",
   "metadata": {},
   "outputs": [],
   "source": [
    "#Example\n",
    "a = 10          # statement 1 \n",
    "spam = a + 10   # statement 2  (a+10 is the expression)"
   ]
  },
  {
   "cell_type": "markdown",
   "id": "b5f6b728",
   "metadata": {},
   "source": [
    "## 6. After running the following code, what does the variable bacon contain?\n",
    "\n",
    "bacon = 22<br>\n",
    "bacon + 1"
   ]
  },
  {
   "cell_type": "markdown",
   "id": "135edf6a",
   "metadata": {},
   "source": [
    "#### Ans: \n",
    "The variable bacon contain the value 22."
   ]
  },
  {
   "cell_type": "code",
   "execution_count": 2,
   "id": "66a984eb",
   "metadata": {},
   "outputs": [
    {
     "name": "stdout",
     "output_type": "stream",
     "text": [
      "22\n"
     ]
    }
   ],
   "source": [
    "bacon = 22\n",
    "bacon + 1\n",
    "print(bacon)"
   ]
  },
  {
   "cell_type": "markdown",
   "id": "d7f92667",
   "metadata": {},
   "source": [
    "The variable bacon is assigned with the value 22.<br>\n",
    "Eventhough bacon is incremented by 1, it is not reassigned.<br> \n",
    "Hence the variable contain the assigned value 22.<br>"
   ]
  },
  {
   "cell_type": "markdown",
   "id": "8239cd2a",
   "metadata": {},
   "source": [
    "## 7. What should the values of the following two terms be?\n",
    "'spam' + 'spamspam'<br>\n",
    "'spam' * 3\n"
   ]
  },
  {
   "cell_type": "markdown",
   "id": "2ab97b6f",
   "metadata": {},
   "source": [
    "#### Ans:\n",
    "'spam' + 'spamspam' ==> 'spamspamspam' # Reason: Concating 'spam' with 'spamspam'<br>\n",
    "'spam' * 3          ==> 'spamspamspam' # Reason: The string spam is multiplied 3 times (i.e string multiplication)"
   ]
  },
  {
   "cell_type": "code",
   "execution_count": 3,
   "id": "001e8b30",
   "metadata": {},
   "outputs": [
    {
     "data": {
      "text/plain": [
       "'spamspamspam'"
      ]
     },
     "execution_count": 3,
     "metadata": {},
     "output_type": "execute_result"
    }
   ],
   "source": [
    "'spam' + 'spamspam' "
   ]
  },
  {
   "cell_type": "code",
   "execution_count": 4,
   "id": "49967270",
   "metadata": {},
   "outputs": [
    {
     "data": {
      "text/plain": [
       "'spamspamspam'"
      ]
     },
     "execution_count": 4,
     "metadata": {},
     "output_type": "execute_result"
    }
   ],
   "source": [
    "'spam' * 3"
   ]
  },
  {
   "cell_type": "markdown",
   "id": "1c0dd5b8",
   "metadata": {},
   "source": [
    "## 8. Why is eggs a valid variable name while 100 is invalid?"
   ]
  },
  {
   "cell_type": "markdown",
   "id": "eff74a54",
   "metadata": {},
   "source": [
    "#### Ans: \n",
    "In python variables cannot be an integers and can't start with integers too. <br>"
   ]
  },
  {
   "cell_type": "code",
   "execution_count": 5,
   "id": "02f6620b",
   "metadata": {},
   "outputs": [
    {
     "name": "stdout",
     "output_type": "stream",
     "text": [
      "10\n"
     ]
    }
   ],
   "source": [
    "eggs = 10\n",
    "print(eggs)"
   ]
  },
  {
   "cell_type": "code",
   "execution_count": 6,
   "id": "01951ef2",
   "metadata": {},
   "outputs": [
    {
     "ename": "SyntaxError",
     "evalue": "cannot assign to literal here. Maybe you meant '==' instead of '='? (4008009787.py, line 1)",
     "output_type": "error",
     "traceback": [
      "\u001b[1;36m  Cell \u001b[1;32mIn[6], line 1\u001b[1;36m\u001b[0m\n\u001b[1;33m    100 = 10 # Error Expected (100 is not equal to 10)\u001b[0m\n\u001b[1;37m    ^\u001b[0m\n\u001b[1;31mSyntaxError\u001b[0m\u001b[1;31m:\u001b[0m cannot assign to literal here. Maybe you meant '==' instead of '='?\n"
     ]
    }
   ],
   "source": [
    "100 = 10 # Error Expected (100 is not equal to 10)"
   ]
  },
  {
   "cell_type": "code",
   "execution_count": 7,
   "id": "868e00a4",
   "metadata": {},
   "outputs": [
    {
     "name": "stdout",
     "output_type": "stream",
     "text": [
      "10\n"
     ]
    }
   ],
   "source": [
    "# Alternative way\n",
    "_100 = 10\n",
    "print(_100)"
   ]
  },
  {
   "cell_type": "markdown",
   "id": "bafbcadc",
   "metadata": {},
   "source": [
    "## 9. What three functions can be used to get the integer, floating-point number, or string version of a value?"
   ]
  },
  {
   "cell_type": "code",
   "execution_count": 8,
   "id": "ff5bf135",
   "metadata": {},
   "outputs": [],
   "source": [
    "x = 10.1123"
   ]
  },
  {
   "cell_type": "code",
   "execution_count": 9,
   "id": "709b3e0f",
   "metadata": {},
   "outputs": [
    {
     "name": "stdout",
     "output_type": "stream",
     "text": [
      "10 <class 'int'>\n"
     ]
    }
   ],
   "source": [
    "int_x = int(x) # int from a value\n",
    "print(int_x, type(int_x)) "
   ]
  },
  {
   "cell_type": "code",
   "execution_count": 10,
   "id": "5f702c7e",
   "metadata": {},
   "outputs": [
    {
     "name": "stdout",
     "output_type": "stream",
     "text": [
      "10.1123 <class 'float'>\n"
     ]
    }
   ],
   "source": [
    "float_x = float(x) # float from a value\n",
    "print(float_x, type(float_x)) "
   ]
  },
  {
   "cell_type": "code",
   "execution_count": 11,
   "id": "87ab918a",
   "metadata": {},
   "outputs": [
    {
     "name": "stdout",
     "output_type": "stream",
     "text": [
      "10.1123 <class 'str'>\n"
     ]
    }
   ],
   "source": [
    "str_x = str(x) #str from a value\n",
    "print(str_x, type(str_x))"
   ]
  },
  {
   "cell_type": "markdown",
   "id": "055ab576",
   "metadata": {},
   "source": [
    "## 10. Why does this expression cause an error? How can you fix it?\n",
    "'I have eaten ' + 99 + ' burritos.'\n"
   ]
  },
  {
   "cell_type": "markdown",
   "id": "4cbe2be8",
   "metadata": {},
   "source": [
    "#### Ans: \n",
    "* It is not possible to concat String and integer<br>\n",
    "    'I have eaten' --> String <br>\n",
    "     99 --> integer<br>\n",
    "    'burritos'--> String\n",
    "    \n",
    "* Fix : 'I have eaten ' + '99' + ' burritos.' (or) I have eaten ' + str(99) + ' burritos.'"
   ]
  },
  {
   "cell_type": "code",
   "execution_count": 12,
   "id": "e6137b4a",
   "metadata": {},
   "outputs": [
    {
     "ename": "TypeError",
     "evalue": "can only concatenate str (not \"int\") to str",
     "output_type": "error",
     "traceback": [
      "\u001b[1;31m---------------------------------------------------------------------------\u001b[0m",
      "\u001b[1;31mTypeError\u001b[0m                                 Traceback (most recent call last)",
      "Cell \u001b[1;32mIn[12], line 1\u001b[0m\n\u001b[1;32m----> 1\u001b[0m \u001b[38;5;124;43m'\u001b[39;49m\u001b[38;5;124;43mI have eaten \u001b[39;49m\u001b[38;5;124;43m'\u001b[39;49m\u001b[43m \u001b[49m\u001b[38;5;241;43m+\u001b[39;49m\u001b[43m \u001b[49m\u001b[38;5;241;43m99\u001b[39;49m \u001b[38;5;241m+\u001b[39m \u001b[38;5;124m'\u001b[39m\u001b[38;5;124m burritos.\u001b[39m\u001b[38;5;124m'\u001b[39m\n",
      "\u001b[1;31mTypeError\u001b[0m: can only concatenate str (not \"int\") to str"
     ]
    }
   ],
   "source": [
    "'I have eaten ' + 99 + ' burritos.' #Error Expected (Can't concat string and int)"
   ]
  },
  {
   "cell_type": "code",
   "execution_count": 14,
   "id": "95c4cccc",
   "metadata": {},
   "outputs": [
    {
     "data": {
      "text/plain": [
       "'I have eaten 99 burritos.'"
      ]
     },
     "execution_count": 14,
     "metadata": {},
     "output_type": "execute_result"
    }
   ],
   "source": [
    "'I have eaten ' + '99' + ' burritos.' #Replacing int 99 as string"
   ]
  },
  {
   "cell_type": "code",
   "execution_count": 13,
   "id": "79736058",
   "metadata": {},
   "outputs": [
    {
     "data": {
      "text/plain": [
       "'I have eaten 99 burritos.'"
      ]
     },
     "execution_count": 13,
     "metadata": {},
     "output_type": "execute_result"
    }
   ],
   "source": [
    "'I have eaten ' + str(99) + ' burritos.'  #Replacing int 99 as string"
   ]
  },
  {
   "cell_type": "code",
   "execution_count": null,
   "id": "16bcad9e",
   "metadata": {},
   "outputs": [],
   "source": []
  },
  {
   "cell_type": "code",
   "execution_count": null,
   "id": "1a16bf24",
   "metadata": {},
   "outputs": [],
   "source": []
  }
 ],
 "metadata": {
  "kernelspec": {
   "display_name": "Python 3 (ipykernel)",
   "language": "python",
   "name": "python3"
  },
  "language_info": {
   "codemirror_mode": {
    "name": "ipython",
    "version": 3
   },
   "file_extension": ".py",
   "mimetype": "text/x-python",
   "name": "python",
   "nbconvert_exporter": "python",
   "pygments_lexer": "ipython3",
   "version": "3.10.9"
  }
 },
 "nbformat": 4,
 "nbformat_minor": 5
}
